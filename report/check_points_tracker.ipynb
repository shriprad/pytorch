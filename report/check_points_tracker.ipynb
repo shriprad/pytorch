{
 "cells": [
  {
   "cell_type": "markdown",
   "metadata": {},
   "source": [
    "# <font style = \"color:rgb(50,120,229)\">Model Validation CheckPoints</font>\n"
   ]
  },
  {
   "cell_type": "markdown",
   "metadata": {},
   "source": [
    "## <font style = \"color:rgb(50,120,229)\">OverView</font>\n"
   ]
  },
  {
   "cell_type": "markdown",
   "metadata": {},
   "source": [
    "This keeps track of checkpoints interms of models used to train and test dataset and results of the validation on the data trained."
   ]
  },
  {
   "cell_type": "markdown",
   "metadata": {},
   "source": [
    "### <font style = \"color:rgb(50,120,229)\">CheckPoint 1 for Image Classification Training</font>\n",
    "\n",
    "\n"
   ]
  },
  {
   "cell_type": "markdown",
   "metadata": {},
   "source": [
    "|<img src=\"https://www.dropbox.com/s/k2lbfyd1ggh5nz4/checkpoint_1.png?dl=1\" alt=\"Input Image\"/> |                                                                                           \n",
    "\n"
   ]
  },
  {
   "cell_type": "markdown",
   "metadata": {},
   "source": [
    "The above image shows the use of ResNext50 model. ResNext50 was trained on the particular dataset which gave good accuracy.To use ResNext50 for our custom data in this checkpoint we retrained it on 4th layer and obtained accuracy upto 76%. "
   ]
  },
  {
   "cell_type": "markdown",
   "metadata": {},
   "source": [
    "## <font style = \"color:rgb(50,120,229)\">Output Graph</font>\n",
    "\n",
    "\n",
    "\n",
    "|<img src=\"https://www.dropbox.com/s/m81mrc7tab3letj/sample_loss_acc_plot_4th.png?dl=1\" alt=\"Input Image\"/> |                                                                                           \n",
    "\n",
    "\n",
    "\n"
   ]
  },
  {
   "cell_type": "markdown",
   "metadata": {},
   "source": [
    "### <font style = \"color:rgb(50,120,229)\">CheckPoint 2 for Image Classification Training</font>\n"
   ]
  },
  {
   "cell_type": "markdown",
   "metadata": {},
   "source": [
    "|<img src=\"https://www.dropbox.com/s/v3b1h41is22uzgk/checkpoint_2.png?dl=1\" alt=\"Input Image\"/> |                                                                                           \n"
   ]
  },
  {
   "cell_type": "markdown",
   "metadata": {},
   "source": [
    "The above image shows the use of ResNext50 model. ResNext50 was trained on the particular dataset which gave good accuracy.To use ResNext50 for our custom data in this checkpoint we retrained it on3rd and 4th layer and obtained accuracy upto 77%. "
   ]
  },
  {
   "cell_type": "markdown",
   "metadata": {},
   "source": [
    "## <font style = \"color:rgb(50,120,229)\">Output Graph</font>\n",
    "\n",
    "\n",
    "\n",
    "|<img src=\"https://www.dropbox.com/s/xhundzmke8oo4aw/sample_loss_acc_plot.png?dl=1\" alt=\"Input Image\"/> |                                                                                           \n",
    "\n",
    "\n",
    "\n"
   ]
  },
  {
   "cell_type": "markdown",
   "metadata": {},
   "source": [
    "### <font style = \"color:rgb(50,120,229)\">CheckPoint 3 for Image Classification Training</font>\n",
    "\n",
    "|<img src=\"https://www.dropbox.com/s/687ipr2uxdrmgta/check_3_3_4.png?dl=1\" alt=\"Input Image\"/> |                                                                                           \n"
   ]
  },
  {
   "cell_type": "markdown",
   "metadata": {},
   "source": [
    "This Check Point is same as checkpoint 2 but in this checkpoint the cross-validation is added which tests and trains every data interms of folds due to this we get 80% efficency."
   ]
  },
  {
   "cell_type": "markdown",
   "metadata": {},
   "source": [
    "### <font style = \"color:rgb(50,120,229)\">CheckPoint 4 for Image Classification Training</font>\n",
    "\n",
    "|<img src=\"https://www.dropbox.com/s/u7pekiouv4it2l8/inc1.png?dl=1\" alt=\"Input Image\"/> |                                                                                           \n"
   ]
  },
  {
   "cell_type": "markdown",
   "metadata": {},
   "source": [
    "### <font style = \"color:rgb(50,120,229)\">Output Graph</font>\n",
    "\n",
    "|<img src=\"https://www.dropbox.com/s/7cifq21nkflzw3x/inception_w_a1.png?dl=1\" alt=\"Input Image\"/> |                                                                                           \n"
   ]
  },
  {
   "cell_type": "markdown",
   "metadata": {},
   "source": [
    "### <font style = \"color:rgb(50,120,229)\">CheckPoint 5 for Image Classification Training</font>\n",
    "\n",
    "|<img src=\"https://www.dropbox.com/s/s726m0wfd6yir8y/inc_4.png?dl=1\" alt=\"Input Image\"/> |                                                                                           \n"
   ]
  },
  {
   "cell_type": "markdown",
   "metadata": {},
   "source": [
    "### <font style = \"color:rgb(50,120,229)\">Output Graph</font>\n",
    "\n",
    "|<img src=\"https://www.dropbox.com/s/xhundzmke8oo4aw/sample_loss_acc_plot.png?dl=1\" alt=\"Input Image\"/> |                                                                                           \n"
   ]
  },
  {
   "cell_type": "markdown",
   "metadata": {},
   "source": [
    "### <font style = \"color:rgb(50,120,229)\">CheckPoint 6 for Image Classification Training</font>\n",
    "\n",
    "|<img src=\"https://www.dropbox.com/s/hvyxl9t4gc9zqve/inc_3_4.png?dl=1\" alt=\"Input Image\"/> |                                                                                           \n"
   ]
  },
  {
   "cell_type": "markdown",
   "metadata": {},
   "source": [
    "### <font style = \"color:rgb(50,120,229)\">Output Graph</font>\n",
    "\n",
    "|<img src=\"https://www.dropbox.com/s/4xvspvb2zlbxr1a/sample_loss_acc_plot_3_4.png?dl=1\" alt=\"Input Image\"/> |                                                                                           \n"
   ]
  }
 ],
 "metadata": {
  "kernelspec": {
   "display_name": "Python 3",
   "language": "python",
   "name": "python3"
  },
  "language_info": {
   "codemirror_mode": {
    "name": "ipython",
    "version": 3
   },
   "file_extension": ".py",
   "mimetype": "text/x-python",
   "name": "python",
   "nbconvert_exporter": "python",
   "pygments_lexer": "ipython3",
   "version": "3.5.2"
  }
 },
 "nbformat": 4,
 "nbformat_minor": 2
}
